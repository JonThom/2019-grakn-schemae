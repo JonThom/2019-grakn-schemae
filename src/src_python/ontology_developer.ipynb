{
 "cells": [
  {
   "cell_type": "markdown",
   "metadata": {},
   "source": [
    "# A Grakn schema for modelling ontologies"
   ]
  },
  {
   "cell_type": "markdown",
   "metadata": {},
   "source": [
    "## Purpose\n",
    "\n",
    "A good ontology modelling tools needs:\n",
    "1. metadata such as comments, revision history, references for a given class \n",
    "2. flexible visualisation \n",
    "3. frictionless compiling\n",
    "\n",
    "The Grakn schema and Grakn workbase do not (yet) provide features 1. and 2.\n",
    "Existing third party ontology editors do not compile Grakn schemas.\n",
    "This notebook contains a workflow for developing a Grakn schema that has all three features.\n"
   ]
  },
  {
   "cell_type": "markdown",
   "metadata": {},
   "source": [
    "## Description\n",
    "\n",
    "Model a Grakn schema as an undirected graph where\n",
    "\n",
    "* The following Grakn objects are represented in the undirected graph as **nodes**: \n",
    "    * EntityType\n",
    "    * RelationType\n",
    "    * AttributeType \n",
    "    * Rule\n",
    "\n",
    "* The following Grakn objects are represented in the undirected graph as **edges**:\n",
    "    * relates * as [role]\n",
    "    * plays \n",
    "    * has \n",
    "    * class hierarchy \n",
    "        * parent\n",
    "        * child \n",
    "    * rules\n",
    "        * when \n",
    "        * then \n",
    "        \n",
    "* The following are represented in the undirected graph as node and edge string attributes:\n",
    "    * Grakn\n",
    "        * Type\n",
    "        * class name\n",
    "        * whether the class is abstract\n",
    "    * development metadata - as in OBO (TODO)\n",
    "        * source\n",
    "        * elucidation\n",
    "        * example \n",
    "        * status\n",
    "        * revision history\n",
    "        * references \n",
    "\n",
    "note that nodes must be created before edges."
   ]
  },
  {
   "cell_type": "markdown",
   "metadata": {},
   "source": [
    "## Reference"
   ]
  },
  {
   "cell_type": "markdown",
   "metadata": {},
   "source": [
    "### Grakn"
   ]
  },
  {
   "cell_type": "markdown",
   "metadata": {},
   "source": [
    "schema concepts https://dev.grakn.ai/docs/schema/concepts#clients-guide\n",
    "client API https://dev.grakn.ai/docs/concept-api/type\n",
    "concept API https://dev.grakn.ai/docs/concept-api/type"
   ]
  },
  {
   "cell_type": "markdown",
   "metadata": {},
   "source": [
    "### NetworkX"
   ]
  },
  {
   "cell_type": "markdown",
   "metadata": {},
   "source": [
    "As igraph (https://igraph.org/python/doc/tutorial/install.html#installing-igraph) is made for Python 2.7 and more trouble to install, we use the the NetworkX library (https://networkx.github.io/) instead.\n",
    "\n",
    "NetworkX docs:\n",
    "\n",
    "1.1 NetworkX Basics\n",
    "\n",
    "All graph classes allow any hashable object as a node. Hashable objects include strings, tuples, integers, and more.\n",
    "\n",
    "Arbitrary edge attributes such as weights and labels can be associated with an edge.\n",
    "\n",
    "Multi-edges may occur in our ontology e.g. multiple possible roles between a RelationType and an EntityType. So we use the networkx MultiGraph class, a flexible graph class that allows multiple undirected edges between pairs of nodes.\n",
    "\n",
    "1.2.1 Nodes and Edges\n",
    "\n",
    "If you have a data structure already in place to describe nodes you can simply use that structure as your nodes provided it is hashable. If it is not hashable you can use a unique identifier to represent the node and assign the data as a node attribute."
   ]
  },
  {
   "cell_type": "markdown",
   "metadata": {},
   "source": [
    "## set up"
   ]
  },
  {
   "cell_type": "markdown",
   "metadata": {},
   "source": [
    "### import modules"
   ]
  },
  {
   "cell_type": "code",
   "execution_count": 1,
   "metadata": {},
   "outputs": [],
   "source": [
    "import networkx as nx\n",
    "from grakn.client import GraknClient"
   ]
  },
  {
   "cell_type": "markdown",
   "metadata": {},
   "source": [
    "### set constants"
   ]
  },
  {
   "cell_type": "code",
   "execution_count": null,
   "metadata": {},
   "outputs": [],
   "source": [
    "ontology = \"pizza\" # this is the keyspace"
   ]
  },
  {
   "cell_type": "markdown",
   "metadata": {},
   "source": [
    "Now open a terminal client and "
   ]
  },
  {
   "cell_type": "markdown",
   "metadata": {},
   "source": [
    "## build ontology graph"
   ]
  },
  {
   "cell_type": "markdown",
   "metadata": {},
   "source": [
    "### initialise an empty graph"
   ]
  },
  {
   "cell_type": "code",
   "execution_count": null,
   "metadata": {},
   "outputs": [],
   "source": [
    "G = nx.MultiGraph() "
   ]
  },
  {
   "cell_type": "markdown",
   "metadata": {},
   "source": [
    "## edit the graph"
   ]
  },
  {
   "cell_type": "markdown",
   "metadata": {},
   "source": [
    "### EntityType"
   ]
  },
  {
   "cell_type": "markdown",
   "metadata": {},
   "source": [
    "#### define a new EntityType"
   ]
  },
  {
   "cell_type": "code",
   "execution_count": null,
   "metadata": {},
   "outputs": [],
   "source": [
    "newQueryNodes = \"\"\n",
    "newQueryEdges = \"\""
   ]
  },
  {
   "cell_type": "code",
   "execution_count": null,
   "metadata": {},
   "outputs": [],
   "source": [
    "# https://dev.grakn.ai/docs/client-api/python#api-reference\n",
    "\n",
    "with client.session(keyspace=str_keyspace) as session:\n",
    "    ## session is open\n",
    "    with session.transaction().write() as write_transaction:\n",
    "        # For those developing with Client Python: \n",
    "        # Executing define and undefine queries, is as simple as passing the Graql(string) query \n",
    "        # to the query() method available on the transaction object.\n",
    "        write_transaction.query(newQuery)\n",
    "        \n",
    "        # commit to the keyspace\n",
    "        write_transaction.commit()\n",
    "    # transaction is closed due to use of with       \n",
    "# session is closed due to use of with\n",
    "# alternatively use the transaction.close() method"
   ]
  },
  {
   "cell_type": "markdown",
   "metadata": {},
   "source": [
    "#### edit an existing EntityType"
   ]
  },
  {
   "cell_type": "code",
   "execution_count": null,
   "metadata": {},
   "outputs": [],
   "source": []
  },
  {
   "cell_type": "markdown",
   "metadata": {},
   "source": [
    "#### undefine an EntityType"
   ]
  },
  {
   "cell_type": "code",
   "execution_count": null,
   "metadata": {},
   "outputs": [],
   "source": []
  },
  {
   "cell_type": "markdown",
   "metadata": {},
   "source": [
    "### RelationType"
   ]
  },
  {
   "cell_type": "code",
   "execution_count": null,
   "metadata": {},
   "outputs": [],
   "source": []
  },
  {
   "cell_type": "markdown",
   "metadata": {},
   "source": [
    "#### Define a new RelationType"
   ]
  },
  {
   "cell_type": "code",
   "execution_count": null,
   "metadata": {},
   "outputs": [],
   "source": []
  },
  {
   "cell_type": "markdown",
   "metadata": {},
   "source": [
    "#### Edit an existing RelationType"
   ]
  },
  {
   "cell_type": "code",
   "execution_count": null,
   "metadata": {},
   "outputs": [],
   "source": []
  },
  {
   "cell_type": "markdown",
   "metadata": {},
   "source": [
    "#### Undefine a RelationClass"
   ]
  },
  {
   "cell_type": "code",
   "execution_count": null,
   "metadata": {},
   "outputs": [],
   "source": []
  },
  {
   "cell_type": "markdown",
   "metadata": {},
   "source": [
    "### AttributeType class"
   ]
  },
  {
   "cell_type": "markdown",
   "metadata": {},
   "source": [
    "#### Define a new AttributeClass"
   ]
  },
  {
   "cell_type": "code",
   "execution_count": null,
   "metadata": {},
   "outputs": [],
   "source": []
  },
  {
   "cell_type": "markdown",
   "metadata": {},
   "source": [
    "## Edit an existing AttributeClass"
   ]
  },
  {
   "cell_type": "code",
   "execution_count": null,
   "metadata": {},
   "outputs": [],
   "source": []
  },
  {
   "cell_type": "markdown",
   "metadata": {},
   "source": [
    "## Add a new Rule"
   ]
  },
  {
   "cell_type": "code",
   "execution_count": null,
   "metadata": {},
   "outputs": [],
   "source": []
  },
  {
   "cell_type": "markdown",
   "metadata": {},
   "source": [
    "## Edit an existing Rule"
   ]
  },
  {
   "cell_type": "code",
   "execution_count": null,
   "metadata": {},
   "outputs": [],
   "source": []
  },
  {
   "cell_type": "markdown",
   "metadata": {},
   "source": [
    "## Plot ontology graph"
   ]
  },
  {
   "cell_type": "code",
   "execution_count": null,
   "metadata": {},
   "outputs": [],
   "source": []
  },
  {
   "cell_type": "markdown",
   "metadata": {},
   "source": [
    "## Compile ontology as Grakn schema"
   ]
  },
  {
   "cell_type": "markdown",
   "metadata": {},
   "source": [
    "We use the Grakn concept API to compile the networkx graph as a Grakn schema"
   ]
  },
  {
   "cell_type": "markdown",
   "metadata": {},
   "source": [
    "### Reference \n",
    "\n",
    "https://dev.grakn.ai/docs/schema/concepts#clients-guide\n",
    "\n",
    "For those developing with Client Python: Executing define and undefine queries, is as simple as passing the Graql(string) query to the query() method available on the transaction object."
   ]
  },
  {
   "cell_type": "code",
   "execution_count": null,
   "metadata": {},
   "outputs": [],
   "source": []
  }
 ],
 "metadata": {
  "kernelspec": {
   "display_name": "grakn",
   "language": "python",
   "name": "grakn"
  },
  "language_info": {
   "codemirror_mode": {
    "name": "ipython",
    "version": 3
   },
   "file_extension": ".py",
   "mimetype": "text/x-python",
   "name": "python",
   "nbconvert_exporter": "python",
   "pygments_lexer": "ipython3",
   "version": "3.6.8"
  }
 },
 "nbformat": 4,
 "nbformat_minor": 2
}
