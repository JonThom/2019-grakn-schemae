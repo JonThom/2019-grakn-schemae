{
 "cells": [
  {
   "cell_type": "code",
   "execution_count": 4,
   "metadata": {},
   "outputs": [],
   "source": [
    "from grakn.client import GraknClient"
   ]
  },
  {
   "cell_type": "code",
   "execution_count": 7,
   "metadata": {},
   "outputs": [],
   "source": [
    "with GraknClient(uri=\"localhost:48555\") as client:\n",
    "    with client.session(keyspace=\"social_network\") as session:\n",
    "        ## session is open\n",
    "        with session.transaction().read() as transaction:\n",
    "            # create a transaction of type read\n",
    "            answer-iterator = transaction.query(query)\n",
    "            # send a query to the transaction; create an answer object\n",
    "            answer_iterator.map().get(\"pos\").id\n",
    "            # ?\n",
    "    ## session is closed\n",
    "## client is closed"
   ]
  },
  {
   "cell_type": "markdown",
   "metadata": {},
   "source": [
    "Remember that transactions always need to be closed. \n",
    "The safest way is to use the with ... syntax which auto-closes at the end of the with block. \n",
    "Otherwise, remember to call transaction.close() explicitly."
   ]
  },
  {
   "cell_type": "code",
   "execution_count": null,
   "metadata": {},
   "outputs": [],
   "source": [
    "# concept methods\n",
    "concept.id # retrieve concept id\n",
    "concept.is_type() # check whether concept is a Type\n",
    "concept.is_thing()\n",
    "concept.is_entity_type()\n",
    "concept.is_attribute_type()\n",
    "concept.is_relationship_type()\n",
    "concept.is_entity()\n",
    "concept.is_attribute()\n",
    "concept.is_relation()\n",
    "concept.is_rule()"
   ]
  },
  {
   "cell_type": "code",
   "execution_count": null,
   "metadata": {},
   "outputs": [],
   "source": [
    "# Type methods\n",
    "# Types inherit all concept methods, too\n",
    "# https://dev.grakn.ai/docs/concept-api/type#type-methods\n",
    "type.label() # get type label (string)\n",
    "type.label(label) # assign new label and return type object\n",
    "type.sup() # get supertype\n",
    "type.sup(type) # change supertype. An EntityType, AttributeType or RelationType\n",
    "type.sups() # retrieve all supertypes of the type. Returns an iterator of Type objects\n",
    "type.subs() # same, for subtypes\n",
    "type.is_implicit() # check if the type has been created, under the hood, by Grakn\n",
    "type.is_abstract() # check if the type is allowed to have data instances\n",
    "type.is_abstract(abstract) # param:abstract, boolean. Returns Type object\n",
    "type.playing() # returns an iterator of Role objects\n",
    "type.plays(role) # returns Type object\n",
    "type.unplay(role) # returns Type object\n",
    "type.attributes() # returns an iterator of AttributeType objects\n",
    "type.has(attribute_type) # returns type object\n",
    "type.unhas(attribute_type) \n",
    "type.keys() # returns iterator of AttributeType objects \n",
    "type.key(attributeType) # Allow instances of this type to own the given AttributeType as their key\n",
    "# What is a key? - A key is an AttributeType that uniquely identifies an instance. Each key value must be unique.\n",
    "type.unkey(attribute_type) # disallow the ubstabces of this type from owning the given AttributeType as its key\n",
    "type.instances() # returns an iterator of Thing objects"
   ]
  },
  {
   "cell_type": "code",
   "execution_count": null,
   "metadata": {},
   "outputs": [],
   "source": [
    "# EntityType Methods\n",
    "# https://dev.grakn.ai/docs/concept-api/type#entitytype-methods\n",
    "entity_type.create() # Returns a new instance of this EntityType"
   ]
  },
  {
   "cell_type": "code",
   "execution_count": null,
   "metadata": {},
   "outputs": [],
   "source": [
    "# AttributeType methods\n",
    "# https://dev.grakn.ai/docs/concept-api/type#attributetype-methods\n",
    "attribute_type.create(value) # returns an attribute object\n",
    "attribute_type.attribute(value) # returns the Attribute object with the given value, or None\n",
    "attributeType.data_type() # retrieves the datatype \n",
    "attribute_type.regex # retrieves the regez that all instances of this AttributeType must conform to\n",
    "attribute_type.regex(regex) # set the regex. Returns AttributeType object"
   ]
  },
  {
   "cell_type": "code",
   "execution_count": null,
   "metadata": {},
   "outputs": [],
   "source": [
    "# RelationType Methods\n",
    "# https://dev.grakn.ai/docs/concept-api/type#relationtype-methods\n",
    "relation_type.create() # creates and returns relation of this type\n",
    "relation_type.roles() # returns iterator of Role objects\n",
    "relation_type.relates(roles) # set a new role that the RelationType relates\n",
    "relation_type.unrelate(role)"
   ]
  },
  {
   "cell_type": "code",
   "execution_count": null,
   "metadata": {},
   "outputs": [],
   "source": [
    "# Role Methods\n",
    "# https://dev.grakn.ai/docs/concept-api/type#role-methods\n",
    "\n",
    "#Important: at the moment, Role inherets an intermediary class below Concept\n",
    "# from which it inherits the following methods:\n",
    "role.label()\n",
    "role.label(Label.of(label))\n",
    "role.sup()\n",
    "role.sup(Type type)\n",
    "role.sups()\n",
    "role.subs()\n",
    "\n",
    "role.relations() # returns iterator of Relation object instances that the role is related to\n",
    "role.players() # returns iterator of Type objects"
   ]
  },
  {
   "cell_type": "code",
   "execution_count": null,
   "metadata": {},
   "outputs": [],
   "source": [
    "# Rule methods \n",
    "# https://dev.grakn.ai/docs/concept-api/rule#rule-methods\n",
    "rule.get_when() # returns when statements as string\n",
    "rule.get_then()"
   ]
  },
  {
   "cell_type": "code",
   "execution_count": null,
   "metadata": {},
   "outputs": [],
   "source": [
    "# Thing methods\n",
    "# https://dev.grakn.ai/docs/concept-api/thing#thing-methods\n",
    "thihg.type()\n",
    "thing.relations(roles) # return iterator of Relations which this Thing plays a role in, optionally filtered by list of one more gien roles\n",
    "thing.roles()\n",
    "thing.attributes(attribute_types) # return iterator of attributes ,optionally filtered by list of AttributeTypes\n",
    "thing.keys(attribute_types) # retrieves the Attribues that his Thing owns as its keys, optionally filtered by list of AttributeTypes\n",
    "thing.has(attribute) # assign an attribute\n",
    "thing.unhas(attribute) # unassign\n",
    "thing.is_inferrred() # check if inferred by a Reasoning Rule"
   ]
  },
  {
   "cell_type": "code",
   "execution_count": null,
   "metadata": {},
   "outputs": [],
   "source": [
    "# Attribute Methods\n",
    "attribute.value() # retrieve the value that the attribute instance holds\n",
    "attribute.owners() # retrieve instances that have this attribute"
   ]
  },
  {
   "cell_type": "code",
   "execution_count": null,
   "metadata": {},
   "outputs": [],
   "source": [
    "# Relation Methods\n",
    "relation.role_players_map() # returns a dictionary of all instances involved in the relation and the role each play \n",
    "relation.role_players(role) # returns an iterator of things related by the relation, optionally filtered by the Role\n",
    "relation.assign(role, thing) # returns Relaton with new roleplayer added\n",
    "relation.unassign(role, thing)"
   ]
  }
 ],
 "metadata": {
  "kernelspec": {
   "display_name": "Python 3",
   "language": "python",
   "name": "python3"
  },
  "language_info": {
   "codemirror_mode": {
    "name": "ipython",
    "version": 3
   },
   "file_extension": ".py",
   "mimetype": "text/x-python",
   "name": "python",
   "nbconvert_exporter": "python",
   "pygments_lexer": "ipython3",
   "version": "3.6.8"
  }
 },
 "nbformat": 4,
 "nbformat_minor": 2
}
