{
 "cells": [
  {
   "cell_type": "markdown",
   "metadata": {},
   "source": [
    "# Grakn client interactive"
   ]
  },
  {
   "cell_type": "markdown",
   "metadata": {},
   "source": [
    "## Setup"
   ]
  },
  {
   "cell_type": "markdown",
   "metadata": {},
   "source": [
    "### import modules"
   ]
  },
  {
   "cell_type": "code",
   "execution_count": 7,
   "metadata": {},
   "outputs": [],
   "source": [
    "from grakn.client import GraknClient, DataType"
   ]
  },
  {
   "cell_type": "markdown",
   "metadata": {},
   "source": [
    "### define constants"
   ]
  },
  {
   "cell_type": "code",
   "execution_count": 2,
   "metadata": {},
   "outputs": [],
   "source": [
    "str_keyspace = \"socialnetwork\""
   ]
  },
  {
   "cell_type": "markdown",
   "metadata": {},
   "source": [
    "### Start grakn server and load keyspace in terminal\n",
    "\n",
    "grakn server start\n",
    "./grakn console --keyspace name-of-my-keyspace --file path-to-the-social-network/schema.gql"
   ]
  },
  {
   "cell_type": "markdown",
   "metadata": {},
   "source": [
    "## Manage sessions"
   ]
  },
  {
   "cell_type": "code",
   "execution_count": null,
   "metadata": {},
   "outputs": [],
   "source": [
    "# retrieve the  names of all keyspaces running on the Grakn server\n",
    "client.keyspaces().retrieve()"
   ]
  },
  {
   "cell_type": "code",
   "execution_count": null,
   "metadata": {},
   "outputs": [],
   "source": [
    "# delete a keyspace\n",
    "client.keyspaces().delete(\"keyspace_name\")"
   ]
  },
  {
   "cell_type": "markdown",
   "metadata": {},
   "source": [
    "## Interact with a session"
   ]
  },
  {
   "cell_type": "code",
   "execution_count": null,
   "metadata": {},
   "outputs": [],
   "source": [
    "# we need to remember to close the client when done\n",
    "client = GraknClient(uri=\"localhost:48555\")"
   ]
  },
  {
   "cell_type": "markdown",
   "metadata": {},
   "source": [
    "### perform a read transaction"
   ]
  },
  {
   "cell_type": "code",
   "execution_count": 6,
   "metadata": {},
   "outputs": [],
   "source": [
    "# https://dev.grakn.ai/docs/client-api/python#api-reference\n",
    "\n",
    "with client.session(keyspace=str_keyspace) as session:\n",
    "    ## session is open\n",
    "    with session.transaction().read() as read_transaction:\n",
    "        answer_iterator = read_transaction.get_attributes_by_value(\"Canada\", DataType.STRING)\n",
    "        for attr in answer_iterator: \n",
    "            print(attr)\n",
    "            \n",
    "        read_transaction.close()\n",
    "    ## session is closed due to use of with"
   ]
  },
  {
   "cell_type": "markdown",
   "metadata": {},
   "source": [
    "## perform a query on a transaction"
   ]
  },
  {
   "cell_type": "code",
   "execution_count": null,
   "metadata": {},
   "outputs": [],
   "source": [
    "query = '''\n",
    "          match\n",
    "            $pos isa media;\n",
    "            $fun isa emotion;\n",
    "            $fun \"funny\";\n",
    "            $per has gender \"female\";\n",
    "            (reacted-emotion: $fun, reacted-to: $pos, reacted-by: $per) isa reaction;\n",
    "          get $pos;\n",
    "        '''\n",
    "infer = TRUE"
   ]
  },
  {
   "cell_type": "code",
   "execution_count": null,
   "metadata": {},
   "outputs": [],
   "source": [
    "# https://dev.grakn.ai/docs/client-api/python#api-reference\n",
    "\n",
    "with client.session(keyspace=str_keyspace) as session:\n",
    "    ## session is open\n",
    "    with session.transaction().read() as read_transaction: # automatically close transaction when completed\n",
    "        answer_iterator = read_transaction.query(query=query, infer=infer)\n",
    "        # infer Determines if the query should apply inference.\n",
    "    ## session is closed due to use of with"
   ]
  },
  {
   "cell_type": "markdown",
   "metadata": {},
   "source": [
    "## Perform a write transaction"
   ]
  },
  {
   "cell_type": "code",
   "execution_count": null,
   "metadata": {},
   "outputs": [],
   "source": [
    "# https://dev.grakn.ai/docs/client-api/python#api-reference\n",
    "\n",
    "with client.session(keyspace=str_keyspace) as session:\n",
    "    ## session is open\n",
    "    with session.transaction().write() as write_transaction:\n",
    "        pass\n",
    "    # commit the write transaction changes made on the local keyspace to the original keyspace\n",
    "    # Whether or not the transaction is commited successfully, it gets closed after the commit call.\n",
    "    write_transaction.commit \n",
    "    # close the transaction. The currently open transaction must always be closed before opening another one.\n",
    "    # If using with, it happens automatically\n",
    "    write_transaction.close()\n",
    "    ## session is closed due to use of with"
   ]
  },
  {
   "cell_type": "code",
   "execution_count": null,
   "metadata": {},
   "outputs": [],
   "source": [
    "client.close()"
   ]
  }
 ],
 "metadata": {
  "kernelspec": {
   "display_name": "grakn",
   "language": "python",
   "name": "grakn"
  },
  "language_info": {
   "codemirror_mode": {
    "name": "ipython",
    "version": 3
   },
   "file_extension": ".py",
   "mimetype": "text/x-python",
   "name": "python",
   "nbconvert_exporter": "python",
   "pygments_lexer": "ipython3",
   "version": "3.6.8"
  }
 },
 "nbformat": 4,
 "nbformat_minor": 2
}
